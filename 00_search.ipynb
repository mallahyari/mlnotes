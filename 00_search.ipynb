{
 "cells": [
  {
   "cell_type": "code",
   "execution_count": null,
   "metadata": {},
   "outputs": [],
   "source": [
    "# default_exp neural_search"
   ]
  },
  {
   "cell_type": "markdown",
   "metadata": {},
   "source": [
    "# Neural Search Engine with transformers\n",
    "\n",
    "> This tutorial demonstrates how to create a search engine with transformers."
   ]
  },
  {
   "cell_type": "code",
   "execution_count": null,
   "metadata": {},
   "outputs": [],
   "source": [
    "#hide\n",
    "from nbdev.showdoc import *"
   ]
  },
  {
   "cell_type": "markdown",
   "metadata": {},
   "source": [
    "The diagram below shows the architecture of the system:\n",
    "<!-- <img src=\"images/semantic_search_diagram.png\" width=\"600\" height=\"500\" /> -->\n",
    "\n",
    "<img src=\"images/semantic_search_diagram.png\" width=\"600\" height=\"500\" />"
   ]
  },
  {
   "cell_type": "code",
   "execution_count": null,
   "metadata": {},
   "outputs": [],
   "source": [
    "#export\n",
    "import pandas as pd\n",
    "import numpy as np\n",
    "import faiss\n",
    "import torch\n",
    "\n",
    "from sentence_transformers import SentenceTransformer"
   ]
  },
  {
   "cell_type": "markdown",
   "metadata": {},
   "source": [
    "## Step 0: Collect a dataset\n",
    "I used a dataset that is about startups. Dataset is in json format and each record includes the name, a paragraph describing the company, the location and a picture. The dataset is available at [this link](https://storage.googleapis.com/generall-shared-data/startups_demo.json)."
   ]
  },
  {
   "cell_type": "code",
   "execution_count": null,
   "metadata": {},
   "outputs": [],
   "source": [
    "df = pd.read_json(\"https://storage.googleapis.com/generall-shared-data/startups_demo.json\", lines=True)"
   ]
  },
  {
   "cell_type": "code",
   "execution_count": null,
   "metadata": {},
   "outputs": [
    {
     "data": {
      "text/html": [
       "<div>\n",
       "<style scoped>\n",
       "    .dataframe tbody tr th:only-of-type {\n",
       "        vertical-align: middle;\n",
       "    }\n",
       "\n",
       "    .dataframe tbody tr th {\n",
       "        vertical-align: top;\n",
       "    }\n",
       "\n",
       "    .dataframe thead th {\n",
       "        text-align: right;\n",
       "    }\n",
       "</style>\n",
       "<table border=\"1\" class=\"dataframe\">\n",
       "  <thead>\n",
       "    <tr style=\"text-align: right;\">\n",
       "      <th></th>\n",
       "      <th>name</th>\n",
       "      <th>images</th>\n",
       "      <th>alt</th>\n",
       "      <th>description</th>\n",
       "      <th>link</th>\n",
       "      <th>city</th>\n",
       "    </tr>\n",
       "  </thead>\n",
       "  <tbody>\n",
       "    <tr>\n",
       "      <th>0</th>\n",
       "      <td>SaferCodes</td>\n",
       "      <td>https://safer.codes/img/brand/logo-icon.png</td>\n",
       "      <td>SaferCodes Logo QR codes generator system form...</td>\n",
       "      <td>QR codes systems for COVID-19.\\nSimple tools f...</td>\n",
       "      <td>https://safer.codes</td>\n",
       "      <td>Chicago</td>\n",
       "    </tr>\n",
       "    <tr>\n",
       "      <th>1</th>\n",
       "      <td>Human Practice</td>\n",
       "      <td>https://d1qb2nb5cznatu.cloudfront.net/startups...</td>\n",
       "      <td>Human Practice -  health care information tech...</td>\n",
       "      <td>Point-of-care word of mouth\\nPreferral is a mo...</td>\n",
       "      <td>http://humanpractice.com</td>\n",
       "      <td>Chicago</td>\n",
       "    </tr>\n",
       "    <tr>\n",
       "      <th>2</th>\n",
       "      <td>StyleSeek</td>\n",
       "      <td>https://d1qb2nb5cznatu.cloudfront.net/startups...</td>\n",
       "      <td>StyleSeek -  e-commerce fashion mass customiza...</td>\n",
       "      <td>Personalized e-commerce for lifestyle products...</td>\n",
       "      <td>http://styleseek.com</td>\n",
       "      <td>Chicago</td>\n",
       "    </tr>\n",
       "  </tbody>\n",
       "</table>\n",
       "</div>"
      ],
      "text/plain": [
       "             name                                             images  \\\n",
       "0      SaferCodes        https://safer.codes/img/brand/logo-icon.png   \n",
       "1  Human Practice  https://d1qb2nb5cznatu.cloudfront.net/startups...   \n",
       "2       StyleSeek  https://d1qb2nb5cznatu.cloudfront.net/startups...   \n",
       "\n",
       "                                                 alt  \\\n",
       "0  SaferCodes Logo QR codes generator system form...   \n",
       "1  Human Practice -  health care information tech...   \n",
       "2  StyleSeek -  e-commerce fashion mass customiza...   \n",
       "\n",
       "                                         description  \\\n",
       "0  QR codes systems for COVID-19.\\nSimple tools f...   \n",
       "1  Point-of-care word of mouth\\nPreferral is a mo...   \n",
       "2  Personalized e-commerce for lifestyle products...   \n",
       "\n",
       "                       link     city  \n",
       "0       https://safer.codes  Chicago  \n",
       "1  http://humanpractice.com  Chicago  \n",
       "2      http://styleseek.com  Chicago  "
      ]
     },
     "execution_count": null,
     "metadata": {},
     "output_type": "execute_result"
    }
   ],
   "source": [
    "df.head(3)"
   ]
  },
  {
   "cell_type": "markdown",
   "metadata": {},
   "source": [
    "We only implement a search mechanism on the `description` column, i.e. we search and find similar companies based on the similarity of the *search query* and *descriptions*."
   ]
  },
  {
   "cell_type": "code",
   "execution_count": null,
   "metadata": {},
   "outputs": [
    {
     "name": "stdout",
     "output_type": "stream",
     "text": [
      "Total number of documents: 40474\n"
     ]
    }
   ],
   "source": [
    "corpus = df.description.tolist()\n",
    "print(f\"Total number of documents: {len(corpus)}\")"
   ]
  },
  {
   "cell_type": "markdown",
   "metadata": {},
   "source": [
    "> Note: Depending on the quality of the documents, we may need to perform some preprocessing such as removing special characters, digits, etc."
   ]
  },
  {
   "cell_type": "markdown",
   "metadata": {},
   "source": [
    "## Step 1: Create dense vectors of documents (i.e. document embeddings).\n",
    "We need to have an embedding model to create embeddings of our text documents. We use a pretrained language model from the [Sentence Transformers](https://www.sbert.net/docs/pretrained_models.html), specifically we utilize `all-distilroberta-v1` model as it works very well for semantic search applications."
   ]
  },
  {
   "cell_type": "code",
   "execution_count": null,
   "metadata": {},
   "outputs": [
    {
     "data": {
      "application/vnd.jupyter.widget-view+json": {
       "model_id": "ba8c41fb80c540468ace319a22ef9bf0",
       "version_major": 2,
       "version_minor": 0
      },
      "text/plain": [
       "Batches:   0%|          | 0/1265 [00:00<?, ?it/s]"
      ]
     },
     "metadata": {},
     "output_type": "display_data"
    }
   ],
   "source": [
    "# Instantiate the model. You can set the device to `cpu` if don't have access to `gpu`.\n",
    "model = SentenceTransformer('sentence-transformers/all-distilroberta-v1', device='cuda')\n",
    "\n",
    "# convert documents into embeddings\n",
    "corpus_embeddings = model.encode(corpus, show_progress_bar=True)"
   ]
  },
  {
   "cell_type": "markdown",
   "metadata": {},
   "source": [
    "## Step 2: Store the embeddings or index the embeddings\n",
    "In order to be able to perform search and find documents, we need to store document embeddings in a document store. In other words, we have to `index` them. There are several different ways to do that, nevertheless, I work with Faiss for now.\n",
    "Faiss allows us to search through billions of vectors very efficiently. For complete information about Faiss, please check their [wiki](https://github.com/facebookresearch/faiss/wiki) page or read their [paper](https://arxiv.org/abs/1702.08734).\n",
    "\n",
    "Faiss is built around the `Index` object, which contains searchable vectors. Faiss handles collections of vectors of a fixed dimensionality `d`, typically a few 10s to 100s. \n",
    "\n",
    "> Faiss uses only 32-bit floating point matrices. This means we will have to change the data type of the input before building the index."
   ]
  },
  {
   "cell_type": "code",
   "execution_count": null,
   "metadata": {},
   "outputs": [],
   "source": [
    "# Convert the data type of the embeddings into float32.\n",
    "corpus_embeddings = np.array([embedding for embedding in corpus_embeddings]).astype(\"float32\")"
   ]
  },
  {
   "cell_type": "code",
   "execution_count": null,
   "metadata": {},
   "outputs": [],
   "source": [
    "# Build the index\n",
    "# Shape of embeddings is (40474, 768), so we set the dimension of index to 768.\n",
    "index = faiss.IndexFlatL2(corpus_embeddings.shape[1])\n",
    "\n",
    "# Add the document vectors into the index\n",
    "index.add(corpus_embeddings)"
   ]
  },
  {
   "cell_type": "markdown",
   "metadata": {},
   "source": [
    "## Embed the search query\n",
    "Before we search for a query, we must convert the search query into an embedding using the same model we used for document embeddings."
   ]
  },
  {
   "cell_type": "code",
   "execution_count": null,
   "metadata": {},
   "outputs": [],
   "source": [
    "search_query = \"High-Quality Men's Accessories\"\n",
    "\n",
    "# Embed the query\n",
    "query_embedding = model.encode([search_query])"
   ]
  },
  {
   "cell_type": "markdown",
   "metadata": {},
   "source": [
    "## Step 4: Perform the search"
   ]
  },
  {
   "cell_type": "code",
   "execution_count": null,
   "metadata": {},
   "outputs": [
    {
     "name": "stdout",
     "output_type": "stream",
     "text": [
      "[[0.6489439  0.7083432  0.75166255 0.8019202  0.8154081  0.82068354\n",
      "  0.8472285  0.86972404 0.8702345  0.87548184]] [[24969 17175  6105 28803 15934  1629 15866 19206  5640 28549]]\n"
     ]
    }
   ],
   "source": [
    "# We're interested in top-10 most similar documents\n",
    "top_k = 10\n",
    "\n",
    "# Search function returns two arrays, Distances of the nearest neighbors with shape (n, k), and Labels/ids of the nearest neighbors with shape (n, k).\n",
    "distances, ids = index.search(np.array(query_embedding), k=top_k)\n",
    "print(distances, ids)"
   ]
  },
  {
   "cell_type": "markdown",
   "metadata": {},
   "source": [
    "## Step 5: Display the search results"
   ]
  },
  {
   "cell_type": "code",
   "execution_count": null,
   "metadata": {},
   "outputs": [
    {
     "name": "stdout",
     "output_type": "stream",
     "text": [
      "Seasonal Subscription for Men's Accessories\n",
      "Like looking good but hate shopping for good looking things? Each season, we'll ship you a package of ridiculously cool gear from the hottest up and coming brands.\n",
      "You'll never again worry about finding hats, belts, shades, or ties that match the stuff already ...\n",
      "===========\n",
      "Leather Accessories for Men\n",
      "Premium leather accessories for men.\n",
      "===========\n",
      "Affordable custom-tailored mens clothing online\n",
      "===========\n",
      "Fully customizable menswear\n",
      "===========\n",
      "celebrity driven menswear that understands the moments in a gentleman's life\n",
      "designer tailored casual wear and high end luxury suiting and shirting for men\n",
      "===========\n",
      "The Manliest Shop on the Web\n",
      "- Fitness\n",
      "- Gadgets\n",
      "- WTF\n",
      "- Apparel\n",
      "- Electronics\n",
      "and more!\n",
      "All for Men!\n",
      "===========\n",
      "Men's Lifestyle Brand\n",
      "A men's lifestyle brand offering consumers the highest quality products with a fashionable and sophisticated design aesthetic. Gents launched in November 2012 with men's luxury baseball caps, apparel, and accessories, and an e-commerce custom-build experience.\n",
      "===========\n",
      "Badass Custom Tailor \n",
      "Lords & Men custom clothiers will visit men at their offices or homes with a selection of suiting and shirting fabrics. The company will also offer accessories such as ties and cufflinks, which carry high profit margin.\n",
      "What lacks in the custom tailoring world ...\n",
      "===========\n",
      "Fully customized made-to-order clothing \n",
      "Custom made-to-order high fashion men’s and women’s clothing, using never seen before material and production techniques. .\n",
      "===========\n",
      "High end innovative design for consumer electronics accessories.\n",
      "===========\n"
     ]
    }
   ],
   "source": [
    "for id in ids[0]:\n",
    "    print(corpus[id])\n",
    "    print(\"===========\")"
   ]
  },
  {
   "cell_type": "code",
   "execution_count": null,
   "metadata": {},
   "outputs": [],
   "source": [
    "#hide\n",
    "# class FaissNeuralSearch:\n",
    "#     \"\"\" This class represents a neural search that uses faiss as the index for search. \"\"\"\n",
    "    \n",
    "#     def __init__(self, model, corpus):\n",
    "#         self.model = model\n",
    "#         self.corpus = corpus"
   ]
  },
  {
   "cell_type": "code",
   "execution_count": null,
   "metadata": {},
   "outputs": [],
   "source": []
  }
 ],
 "metadata": {
  "kernelspec": {
   "display_name": "Python 3 (ipykernel)",
   "language": "python",
   "name": "python3"
  }
 },
 "nbformat": 4,
 "nbformat_minor": 4
}
